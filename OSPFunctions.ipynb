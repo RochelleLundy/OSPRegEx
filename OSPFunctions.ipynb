{
 "cells": [
  {
   "cell_type": "code",
   "execution_count": null,
   "metadata": {},
   "outputs": [],
   "source": [
    "# functions"
   ]
  },
  {
   "cell_type": "code",
   "execution_count": null,
   "metadata": {},
   "outputs": [],
   "source": [
    "import re\n",
    "import os\n",
    "import pandas as pd"
   ]
  },
  {
   "cell_type": "code",
   "execution_count": null,
   "metadata": {},
   "outputs": [],
   "source": [
    "# functions for extracting and storing text"
   ]
  },
  {
   "cell_type": "code",
   "execution_count": null,
   "metadata": {},
   "outputs": [],
   "source": [
    "# read text of all files and store strings in list \n",
    "\n",
    "def getText(directory):\n",
    "    file_text_list = []\n",
    "    for filename in os.listdir(directory):\n",
    "        file = open(os.path.join(directory, filename), \"r\", encoding=\"latin-1\")\n",
    "        file_content = file.read()\n",
    "        file.close()\n",
    "        file_text = file_content.replace(\"\\n\", \"\")\n",
    "        file_text_list.append(file_text)\n",
    "    return file_text_list\n"
   ]
  },
  {
   "cell_type": "code",
   "execution_count": null,
   "metadata": {},
   "outputs": [],
   "source": [
    "# individual functions for extracting field values\n",
    "# include if/else statements to return \"NOT FOUND\" if cannot match patterns surrounding field value\n",
    "# blank values returned indicate matched pattern but no text in field"
   ]
  },
  {
   "cell_type": "code",
   "execution_count": null,
   "metadata": {},
   "outputs": [],
   "source": [
    "# extract PI\n",
    "\n",
    "def getPI(text_string):\n",
    "    if re.search(r\"(PI|Pl)(:)(.+?)(SU Acct|SU .+ct)\", text_string): \n",
    "        P = re.search(r\"(PI|Pl)(:)(.+?)(SU Acct|SU .+ct)\", text_string).groups()\n",
    "        PVal = P[2].strip()\n",
    "    else:\n",
    "        PVal = \"NOT FOUND\"\n",
    "    return PVal\n"
   ]
  },
  {
   "cell_type": "code",
   "execution_count": null,
   "metadata": {},
   "outputs": [],
   "source": [
    "# extract Title\n",
    "\n",
    "def getTitle(text_string):\n",
    "    if re.search(r\"(Period)(:)(.+?)(..?/..?/....)(.+?)(..?/..?/....)(.+?)(Title|Tttle)\", text_string):\n",
    "        T = re.search(r\"(Period)(:)(.+?)(..?/..?/....)(.+?)(..?/..?/....)(.+?)(Title|Tttle)(:)(.+?)(Amount|Period)\", text_string).groups()\n",
    "        TVal = (T[6].strip()+\" \"+T[9].strip()).strip()\n",
    "    elif re.search(r\"(Title|Tttle)(:)(.+?)(Amount|Period)\", text_string):\n",
    "        T = re.search(r\"(Title|Tttle)(:)(.+?)(Amount|Period)\", text_string).groups()\n",
    "        TVal = (T[2].strip())        \n",
    "    else:\n",
    "        TVal = \"NOT FOUND\"\n",
    "    return TVal\n",
    "    "
   ]
  },
  {
   "cell_type": "code",
   "execution_count": null,
   "metadata": {},
   "outputs": [],
   "source": [
    "# extract Sponsor\n",
    "\n",
    "# still incomplete for SecondLetters[13]\n",
    "# not sure if can demarcate content before 'Sponsor' - preceding field and values not consistent\n",
    "\n",
    "def getSponsor(text_string):\n",
    "    if re.search(r\"(Sponsor)(:)(.+?)(A...d|A....d|,.+d)\", text_string):\n",
    "        S = re.search(r\"(Sponsor)(:)(.+?)(A...d|A....d|,.+d)\", text_string).groups()\n",
    "        SVal = S[2].strip()\n",
    "    else:\n",
    "        SVal = \"NOT FOUND\"\n",
    "    return SVal\n"
   ]
  },
  {
   "cell_type": "code",
   "execution_count": null,
   "metadata": {},
   "outputs": [],
   "source": [
    "# extract Amount\n",
    "\n",
    "def getAmount(text_string):\n",
    "    if re.search(r\"(Amount)(:)(.+?)(\\$.+)(Con.+lations)\", text_string): \n",
    "        A = re.search(r\"(Amount)(:)(.+?)(\\$.+)(Con.+lations)\", text_string).groups()\n",
    "        AVal = A[3].strip()\n",
    "    else:\n",
    "        AVal = \"NOT FOUND\"\n",
    "    return AVal\n"
   ]
  },
  {
   "cell_type": "code",
   "execution_count": null,
   "metadata": {},
   "outputs": [],
   "source": [
    "# extract Period\n",
    "\n",
    "# adjusted to return \"NOT FOUND\" when can't get an appropriate match to a date range; avoids function\n",
    "# returning two dates of format ../../.... with text between them in string\n",
    "\n",
    "def getPeriod(text_string):\n",
    "    if re.search(r\"(Period)(:)(.+?)(\\d\\d?/..?/\\d\\d\\b|\\d\\d?/..?/....)(.+?)(\\d\\d/..?/\\D....|\\d\\d/..?/....|\\d\\d?/..?/\\D....|\\d\\d?/..?/....)( +?[a-zA-Z])\", text_string): \n",
    "        PR = re.search(r\"(Period)(:)(.+?)(\\d\\d?/..?/\\d\\d\\b|\\d\\d?/..?/....)(.+?)(\\d\\d/..?/\\D....|\\d\\d/..?/....|\\d\\d?/..?/\\D....|\\d\\d?/..?/....)( +?[a-zA-Z])\", text_string).groups()\n",
    "        PRVal = (PR[3].strip()+\"-\"+PR[5].strip())\n",
    "    else:\n",
    "        PRVal = \"NOT FOUND\"\n",
    "    return PRVal\n"
   ]
  },
  {
   "cell_type": "code",
   "execution_count": null,
   "metadata": {},
   "outputs": [],
   "source": [
    "# extract Award Number\n",
    "\n",
    "def getAwardNum(text_string):\n",
    "    if re.search(r\"(A.+d |A.+d|.+ward)(#|# )(:)(.+?)(\\bA.+d\\b)\", text_string): \n",
    "        AW = re.search(r\"(A.+d |A.+d|.+ward)(#|# )(:)(.+?)(\\bA.+d\\b)\", text_string).groups()\n",
    "        AWVal = AW[3].strip()\n",
    "    else:\n",
    "        AWVal = \"NOT FOUND\"\n",
    "    return AWVal\n"
   ]
  },
  {
   "cell_type": "code",
   "execution_count": null,
   "metadata": {},
   "outputs": [],
   "source": [
    "# extract Award Type\n",
    "\n",
    "def getAwardType(text_string):\n",
    "    if re.search(r\"(A.+d |A.+d.|A.+d)(Type)(:)(.+?)(Period)\", text_string):\n",
    "        AT = re.search(r\"(A.+d |A.+d.|A.+d)(Type)(:)(.+?)(Period)\", text_string).groups()\n",
    "        ATVal = AT[3].strip()\n",
    "    else:\n",
    "        ATVal = \"NOT FOUND\"\n",
    "    return ATVal\n"
   ]
  },
  {
   "cell_type": "code",
   "execution_count": null,
   "metadata": {},
   "outputs": [],
   "source": [
    "# master function for extracting all field values\n"
   ]
  },
  {
   "cell_type": "code",
   "execution_count": null,
   "metadata": {},
   "outputs": [],
   "source": [
    "def getFieldValues(text_list):\n",
    "    master_value_list = []    \n",
    "    for text in text_list:\n",
    "        value_list = []\n",
    "        PVal = getPI(text)\n",
    "        value_list.append(PVal)\n",
    "        TVal = getTitle(text)\n",
    "        value_list.append(TVal)\n",
    "        SVal = getSponsor(text)\n",
    "        value_list.append(SVal)\n",
    "        PRVal = getPeriod(text)\n",
    "        value_list.append(PRVal)\n",
    "        AWVal = getAwardNum(text)\n",
    "        value_list.append(AWVal)\n",
    "        ATVal = getAwardType(text)\n",
    "        value_list.append(ATVal)\n",
    "        AVal = getAmount(text)\n",
    "        value_list.append(AVal)\n",
    "        master_value_list.append(value_list)\n",
    "    return master_value_list\n",
    "        "
   ]
  },
  {
   "cell_type": "code",
   "execution_count": null,
   "metadata": {},
   "outputs": [],
   "source": [
    "# sequence for running all functions"
   ]
  },
  {
   "cell_type": "code",
   "execution_count": null,
   "metadata": {},
   "outputs": [],
   "source": [
    "Letter_List = getText(\"SecondLetters\")"
   ]
  },
  {
   "cell_type": "code",
   "execution_count": null,
   "metadata": {},
   "outputs": [],
   "source": [
    "Values_List = getFieldValues(Letter_List)"
   ]
  },
  {
   "cell_type": "code",
   "execution_count": null,
   "metadata": {},
   "outputs": [],
   "source": [
    "len(Values_List)"
   ]
  },
  {
   "cell_type": "code",
   "execution_count": null,
   "metadata": {},
   "outputs": [],
   "source": [
    "for value in Values_List:\n",
    "    print(value[0])"
   ]
  },
  {
   "cell_type": "code",
   "execution_count": null,
   "metadata": {},
   "outputs": [],
   "source": [
    "# create dataframe from list of lists"
   ]
  },
  {
   "cell_type": "code",
   "execution_count": null,
   "metadata": {},
   "outputs": [],
   "source": [
    "values_df = pd.DataFrame(Values_List, columns = ['PI', 'Title', 'Sponsor', 'Period', 'AwardNumber', 'AwardType', 'Amount']) \n",
    "values_df"
   ]
  },
  {
   "cell_type": "code",
   "execution_count": null,
   "metadata": {},
   "outputs": [],
   "source": [
    "values_df.to_csv('osp_test.csv', header = True)"
   ]
  },
  {
   "cell_type": "code",
   "execution_count": null,
   "metadata": {},
   "outputs": [],
   "source": []
  }
 ],
 "metadata": {
  "kernelspec": {
   "display_name": "Python 3",
   "language": "python",
   "name": "python3"
  },
  "language_info": {
   "codemirror_mode": {
    "name": "ipython",
    "version": 3
   },
   "file_extension": ".py",
   "mimetype": "text/x-python",
   "name": "python",
   "nbconvert_exporter": "python",
   "pygments_lexer": "ipython3",
   "version": "3.6.0"
  }
 },
 "nbformat": 4,
 "nbformat_minor": 2
}
